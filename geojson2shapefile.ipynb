{
 "cells": [
  {
   "cell_type": "code",
   "execution_count": 1,
   "id": "c188faee-6c1f-4fc4-9385-627bf8275333",
   "metadata": {},
   "outputs": [
    {
     "name": "stdout",
     "output_type": "stream",
     "text": [
      "data/shapefiles/gillock_study_region.shp\n"
     ]
    }
   ],
   "source": [
    "import geopandas as gpd\n",
    "\n",
    "input_filename = 'data/shapefiles/gillock_study_region.geojson'\n",
    "\n",
    "output_filename = input_filename.replace('.geojson', '.shp')\n",
    "gdf = gpd.read_file(input_filename)\n",
    "gdf.to_file(output_filename)\n",
    "print(output_filename)"
   ]
  },
  {
   "cell_type": "code",
   "execution_count": null,
   "id": "c9387daa-a0d1-4da8-8fd3-acd5490eda9e",
   "metadata": {},
   "outputs": [],
   "source": []
  }
 ],
 "metadata": {
  "kernelspec": {
   "display_name": "Python 3 (ipykernel)",
   "language": "python",
   "name": "python3"
  },
  "language_info": {
   "codemirror_mode": {
    "name": "ipython",
    "version": 3
   },
   "file_extension": ".py",
   "mimetype": "text/x-python",
   "name": "python",
   "nbconvert_exporter": "python",
   "pygments_lexer": "ipython3",
   "version": "3.11.8"
  }
 },
 "nbformat": 4,
 "nbformat_minor": 5
}
